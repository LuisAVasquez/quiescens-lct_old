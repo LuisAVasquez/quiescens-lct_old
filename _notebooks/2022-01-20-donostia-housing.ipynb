{
 "cells": [
  {
   "attachments": {},
   "cell_type": "markdown",
   "metadata": {},
   "source": [
    "# \"Going to Spain: Housing in Donostia\"\n",
    "> Very stressful, don't leave for the last second\n",
    "\n",
    "- toc: true \n",
    "- badges: true\n",
    "- comments: true\n",
    "- categories:[Donostia, \"spanish bureaucracy\"]\n",
    "- image: images/chart-preview.png"
   ]
  },
  {
   "attachments": {},
   "cell_type": "markdown",
   "metadata": {},
   "source": [
    "> Please read [this guide to the LCT in Spain written by previous students](https://npbeck.github.io/lct-infos/)"
   ]
  },
  {
   "attachments": {},
   "cell_type": "markdown",
   "metadata": {},
   "source": [
    "# The situation\n",
    "\n",
    "- Donostia's main industry is tourism, which means rents are very high.\n",
    "- The University of the Basque Country has **no student residences**.\n",
    "  - The student residences that do exist are private and really expensive\n",
    "  - The university offers a website [(OSTATU)](https://www.ehu.eus/ostatu/pisos/index.html) with rental postings for students, but in my experience it is useless.\n",
    "- Thus, you will have to look in the private sector.\n",
    "- Many landlords want to rent withouth paying taxes, offering no contract.\n",
    "- **Beware of scams!**\n",
    "- If you don't have european citizenship, you will need a contract for further bureaucracy.\n",
    "  - This bureaucracy is called *empadronamiento* and it is simply registering your address with the local town hall.\n",
    "- If you have european citizenship, you will not need a contract for *empadronamiento*, but I recommend you get one just to be sure.\n",
    "- Before signing anything, try to go to Donostia and see the place in person.\n",
    "- Best advice: try to **contact students from previous years** and ask them how they did it."
   ]
  },
  {
   "attachments": {},
   "cell_type": "markdown",
   "metadata": {},
   "source": [
    "# Finding a place"
   ]
  },
  {
   "attachments": {},
   "cell_type": "markdown",
   "metadata": {},
   "source": [
    "Some general advice:\n",
    "- Start conversations by saying you need a contract with *empadronamiento*, this will save you a lot of time.\n",
    "- It is more effective to contact people and companies via Whatsapp than email!\n",
    "- Check if rent includes utilities (water, electricity). If not, expect around an extra 50€/month for them.\n",
    "- The deposit is usually one month of rent."
   ]
  },
  {
   "attachments": {},
   "cell_type": "markdown",
   "metadata": {},
   "source": [
    "## Before arriving to Donostia\n",
    "\n",
    "There are several ways to start looking for a place before arriving to Donostia\n",
    "\n",
    "\n",
    "- Again, maybe one of the current LCT students can leave you their place or contact you with their landlord.\n",
    "\n",
    "- Try to get into the Whatsapp group of the Erasmus students in Donostia for the current semester\n",
    " - Students post there when they are leaving their rooms\n",
    " - Ask the local Erasmus Student Association (*ESN San Sebastian*) to add you to the group. You can message them on Instagram.\n",
    "\n",
    "- Start looking at places in [Idealista](https://www.idealista.com/), to get an idea on prices.\n",
    "\n",
    "- There are Facebook groups for Erasmus Students in Donostia with rental posts. Search for something like \"Flats & Rooms- Erasmus San Sebastián <Year>\"\n",
    "\n",
    "- You can email a rental agency and ask them about offers.\n",
    " - To find the rental agencies in Donostia search for \"agencia inmobiliaria\" on Google Maps.\n",
    " - The price may be higher, but agencies guarantee a rental contract.\n",
    " - Frequently the rental agencies have very high requirements (for example, proof of regular income for two years), so make sure to tell them you are an international student staying for a year."
   ]
  },
  {
   "attachments": {},
   "cell_type": "markdown",
   "metadata": {},
   "source": [
    "## After arriving to Donostia\n",
    "\n",
    "If you arrive to Donostia without housing, like I did, you can stay in a hostel while looking for accomodation around the city:"
   ]
  },
  {
   "attachments": {},
   "cell_type": "markdown",
   "metadata": {},
   "source": [
    "- Keep doing the things mentioned above.\n",
    "- Try to get a native spanish speaker to help you. There are usually a couple in each LCT batch.\n",
    "- I found that the most effective way to filter places out was to call and ask to see the place on the same day or the next day. This way you can tell if they are serious. \n",
    "- There's a lot of competition, be quick!\n",
    "- Keep checking [Idealista](https://www.idealista.com/), good listings can appear and be taken on the same day."
   ]
  },
  {
   "attachments": {},
   "cell_type": "markdown",
   "metadata": {},
   "source": [
    "# Neighborhoods in Donostia"
   ]
  },
  {
   "attachments": {},
   "cell_type": "markdown",
   "metadata": {},
   "source": [
    "This section is verbatim from [this guide to the LCT in Spain written by previous students](https://npbeck.github.io/lct-infos/)."
   ]
  },
  {
   "attachments": {},
   "cell_type": "markdown",
   "metadata": {},
   "source": [
    "- **Amara**: Residential neighborhood south of the center where rent tends to be cheaper than the Center or Gros. Calm and peaceful, but a little farther from the faculty (~4km) and there’s not much to do.\n",
    "- **Antiguo**: The neighborhood where the faculty is. Also a residential neighborhood; it’s calm and rent is cheaper as well as groceries and services. There’s not much to do here either, but there’s more than other residential neighborhoods thanks to the uni campus and the nightlife around it.\n",
    "- **Centro**: The name says it all. Conveniently close to pretty much everything (Parte Vieja, La Concha beach, the bus and train stations etc), okay to walk to uni (~3km) and with plenty of bus options. Buildings are bigger and slightly newer than in Parte Vieja. Downside is, of course, it’s probably the most expensive. It can also get quite noisy depending on the street.\n",
    "- **Egia** and **Intxaurrondo**: Residential neighborhoods across the river from the center, also have cheaper rent but the downside is they’re full of hills so some streets can be quite steep.\n",
    "- **Gros**: The most popular neighborhood among young people in the city, and in terms of rent it’s as expensive or more than in the Center, but tends to be cheaper for groceries and services and also considerably calmer (less touristy). Known for Zurriola beach, where all the cool people and the surfers hang out. A little farther from the faculty as it is on the other side of the river (~4km), but well connected by bus.\n",
    "- **Parte Vieja**: The most touristy area of the city, which almost entirely consists of bars and restaurants, so it can get quite noisy especially in nicer weather months. Great location in terms of walkability and transportation, and especially entertainment. Close to pretty much everything except the faculty (3.5km) though lots of people walk there anyway. Also has a big offer of flats but buildings can be very old so make sure to check the infrastructure well.\n"
   ]
  },
  {
   "attachments": {},
   "cell_type": "markdown",
   "metadata": {},
   "source": [
    "# My case"
   ]
  },
  {
   "attachments": {},
   "cell_type": "markdown",
   "metadata": {},
   "source": [
    "- I arrived to Donostia barely aware of the housing situation other than the lack of student residences.\n",
    "- I stayed at a youth hostel, around 20€/night.\n",
    "- In the following days, other LCT students in my batch started arriving. We had been in contact online for a couple of months. We managed to stay in the same hostels.\n",
    "- I looked for rooms in Idealista for several days, made several calls, posted on Facebook, visited rental agencies, but could only get to see two places.\n",
    "- This went on for a week, it was very stresful. \n",
    "- To relax, we went to the beach and walked around the city.\n",
    "- Those of us that were Spanish speakers were constantly helping the others review postings, making calls, and accompanying for visits.\n",
    "- I heard about very shady rentals (no contract, no windows, no bathrooms, etc.)\n",
    "- Eventually, one of the LCT students got information about a place from a previous LCT student.\n",
    "- It was a shared place in Parte Vieja and there were a couple of rooms left, they offered contracts.\n",
    "- Several of us rushed and signed the contract on that same day.\n",
    "- Our price range was from 480€ to 580€.\n",
    "- We could not move immediately because our contracts started two or three weeks after we signed them."
   ]
  }
 ],
 "metadata": {
  "interpreter": {
   "hash": "916dbcbb3f70747c44a77c7bcd40155683ae19c65e1c03b4aa3499c5328201f1"
  },
  "kernelspec": {
   "display_name": "visualization-curriculum-gF8wUgMm",
   "language": "python",
   "name": "python3"
  },
  "language_info": {
   "codemirror_mode": {
    "name": "ipython",
    "version": 3
   },
   "file_extension": ".py",
   "mimetype": "text/x-python",
   "name": "python",
   "nbconvert_exporter": "python",
   "pygments_lexer": "ipython3",
   "version": "3.8.10 (default, Nov 14 2022, 12:59:47) \n[GCC 9.4.0]"
  },
  "varInspector": {
   "cols": {
    "lenName": 16,
    "lenType": 16,
    "lenVar": 40
   },
   "kernels_config": {
    "python": {
     "delete_cmd_postfix": "",
     "delete_cmd_prefix": "del ",
     "library": "var_list.py",
     "varRefreshCmd": "print(var_dic_list())"
    },
    "r": {
     "delete_cmd_postfix": ") ",
     "delete_cmd_prefix": "rm(",
     "library": "var_list.r",
     "varRefreshCmd": "cat(var_dic_list()) "
    }
   },
   "types_to_exclude": [
    "module",
    "function",
    "builtin_function_or_method",
    "instance",
    "_Feature"
   ],
   "window_display": false
  }
 },
 "nbformat": 4,
 "nbformat_minor": 4
}
