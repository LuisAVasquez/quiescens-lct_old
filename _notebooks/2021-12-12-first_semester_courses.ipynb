{
 "cells": [
  {
   "cell_type": "markdown",
   "metadata": {},
   "source": [
    "# \"Studies: First Semester Course Breakdown\"\n",
    "> Information about each course\n",
    "\n",
    "- toc: true \n",
    "- badges: true\n",
    "- comments: true\n",
    "- categories:[\"LCT Year 1\"]\n",
    "- image: images/chart-preview.png"
   ]
  },
  {
   "cell_type": "markdown",
   "metadata": {},
   "source": [
    "You can find my **notes** and **previous exams** for all the courses in the first semester in this [Google Drive directory](https://drive.google.com/drive/folders/1D43xcZXuU8BKme2LaaN4SKjg83RAI6YB?usp=sharing).\n",
    "\n",
    "> Note: My experience of the courses is biased by my background (Mathematics, Logic, and Programming). Different backgrounds will be addressed in a future post\n",
    "\n"
   ]
  },
  {
   "cell_type": "markdown",
   "metadata": {},
   "source": [
    "I will describe each course in the first semester, you can find an overview of the structure of the first semester in [this post](https://luisavasquez.github.io/quiescens-lct/lct%20year%201/2022/07/02/first_semester.html)."
   ]
  },
  {
   "cell_type": "markdown",
   "metadata": {},
   "source": [
    "# Courses"
   ]
  },
  {
   "cell_type": "markdown",
   "metadata": {},
   "source": [
    "# Written Corpora\n",
    "\n",
    "**Where?**\n",
    "- IDMC\n",
    "\n",
    "**Grading**\n",
    "- 1 Exam | 70%\n",
    "- 1 Project | 30%\n",
    "\n",
    "\n",
    "**Description**\n",
    "\n",
    "Written corpora are the raw materials to build up most NLP tools and Applications. This course covers how to build, store, annotate, and use corpora. The project is done as part of the Semester Project (see below).\n",
    "\n",
    "\n",
    "**Topics**\n",
    "- Encodings\n",
    "- Annotation\n",
    "- Famous Corpora\n",
    "- Evaluation\n",
    "- Universal Dependencies\n",
    "- Inter Annotator Agreement\n",
    "- Crowdsourcing\n",
    "\n",
    "\n",
    "**Comment**\n",
    "\n",
    "I think this course could have been explained in 2/3rds of the time it took. Not a difficult course, there's just an abundance of concepts."
   ]
  },
  {
   "cell_type": "markdown",
   "metadata": {},
   "source": [
    "## UML (Unified Modelling Language)\n",
    "\n",
    "**Where?**\n",
    "- IDMC\n",
    "\n",
    "**Grading**\n",
    "- 1 exam | 100%\n",
    "\n",
    "**Description**\n",
    "\n",
    "This course teaches a standardized way of using diagrams to describe how software works. \n",
    "\n",
    "\n",
    "**Topics**\n",
    "- Use Cases\n",
    "- Behavior diagrams\n",
    "- State Machine diagrams\n",
    "- Sequence diagrams\n",
    "- Class diagrams\n",
    "- and many more diagrams...\n",
    "\n",
    "**Comment**\n",
    "\n",
    "I will just cite the [Wikipedia Article on UML](https://en.wikipedia.org/wiki/Unified_Modeling_Language):\n",
    "\n",
    "> \"In software engineering, most practitioners do not use UML, but instead produce informal hand drawn diagrams; these diagrams, however, often include elements from UML.\""
   ]
  },
  {
   "cell_type": "markdown",
   "metadata": {},
   "source": [
    "## Review of Statistics and Probability\n",
    "\n",
    "**Where?**\n",
    "- IDMC\n",
    "\n",
    "**Grading**\n",
    "- No Grading\n",
    "\n",
    "**Description**\n",
    "\n",
    "A review of basic notions of probability and statistics, using Python.\n",
    "\n",
    "**Topics**\n",
    "- Random Variables in Python\n",
    "- Introduction to Linear Algebra in Python\n",
    "- Visualizing correlation in Python\n",
    "\n",
    "\n",
    "**Comment**\n",
    "\n",
    "This covers the same as most general purpose statistics courses in undergrads, so it is safe to skip if you already know Python and basic statistics. For us it was at 8AM on Monday morning. (From my experience during my undergrad, no one can learn math before 10AM!)"
   ]
  },
  {
   "cell_type": "markdown",
   "metadata": {},
   "source": [
    "## Probability and Statistics\n",
    "\n",
    "**Where?**\n",
    "- IDMC\n",
    "\n",
    "**Grading**\n",
    "- 1 Exam | 100%\n",
    "\n",
    "**Description**\n",
    "\n",
    "The continuation of the previous course, but now towards using Python for Data Science. This course is shared with the Cognitive Science students, who are always loud. There are lectures and tutorials. Some tutors only show you the code and others explain the reasoning behind it. You're free to change tutors if necessary.\n",
    "\n",
    "\n",
    "**Topics**\n",
    "- Random Variables\n",
    "- Confidence intervals\n",
    "- One and Two Sample Testing\n",
    "- Chi square tests\n",
    "- Hypothesis testing\n",
    "- [PCA](https://en.wikipedia.org/wiki/Principal_component_analysis), [NMF](https://en.wikipedia.org/wiki/Non-negative_matrix_factorization), [t-SNE](https://en.wikipedia.org/wiki/T-distributed_stochastic_neighbor_embedding)\n",
    "- Clustering\n",
    "- Clustering time series\n",
    "\n",
    "**Comment**\n",
    "\n",
    "Don't get scared by the topics. Most of the lecture is running code and interpreting the results, not learning much about their implementation or their justification. Again, Monday at 8AM."
   ]
  },
  {
   "cell_type": "markdown",
   "metadata": {},
   "source": [
    "## Programming\n",
    "\n",
    "**Where?**\n",
    "- IDMC\n",
    "\n",
    "**Grading**\n",
    "- 1 Exam | > 90%\n",
    "- 1 Assignment per tutorial session | ? %\n",
    "- (we never knew the exact weight of the assignments)\n",
    "\n",
    "\n",
    "**Description**\n",
    "\n",
    "An introduction to Python. The course is divided into two groups: Beginners (never programmed before) and Advanced (experience programming in other languages); each group has a different lecturer and a different exam. During the first two week you can try out each group, but after that you have to register definitely in one of them. \n",
    "\n",
    "The tutorials give you a good opportunity to practice and ask for help. For each tutorial there is an assignment that you have to finish and submit on *Arche* in one week at the latest.\n",
    "\n",
    "\n",
    "**Topics**\n",
    "- Introduction: The Zen of Python \n",
    "- Data types in Python\n",
    "- Functions\n",
    "- Functional Programming\n",
    "- Object Oriented Programming\n",
    "- Software Testing\n",
    "\n",
    "**Comment**\n",
    ">  **Very important course**: You will be using Python for all the other courses. \n",
    "\n",
    "One of my favorite courses of the first semester. Python is really flexible for all you may need, and there are many open source resources for anything you'd like to do. Everything you learn here will be useful for the other courses and for the future.\n",
    "\n"
   ]
  },
  {
   "cell_type": "markdown",
   "metadata": {},
   "source": [
    "## Phonetics and Phonology\n",
    "\n",
    "**Where?**\n",
    "- *Campus Lettres*\n",
    "\n",
    "**Grading**\n",
    "- 1 Project | 100%\n",
    "\n",
    "**Description**\n",
    "\n",
    "Introduction of Phonetics and Phonology, both theoretically and using software (*Praat*). The course is in a computer lab in Campus Lettres. \n",
    "There is a group project for this course. The professor proposes six ideas for projects, and you have to pick one (however, you may also propose an idea). \n",
    "\n",
    "**Topics**\n",
    "- Introduction: Human Articulators\n",
    "- Vowels and Consonants\n",
    "- Phonetic transcription\n",
    "- *Praat*: Manual audio segmentation\n",
    "- Phonemes and alophones\n",
    "- Distinctive features\n",
    "- Coarticulation\n",
    "\n",
    "**Comment**\n",
    "\n",
    "If you have never done Phonetics and Phonology before, get ready for dozens of new concepts. I learned in this course, even though I am not a fan of working with speech. Given that many of us spoke different languages, it was fun to see how phonetic differences can be analysed by software (for example, French or English speakers from different regions, speakers of languages with more than 30 consonants, speakers of languages with clicks, etc.)"
   ]
  },
  {
   "cell_type": "markdown",
   "metadata": {},
   "source": [
    "## Morphology\n",
    "\n",
    "**Where?**\n",
    "- *Campus Lettres*\n",
    "\n",
    "**Grading**\n",
    "- 1 Exam | 100%\n",
    "\n",
    "**Description**\n",
    "\n",
    "Introduction to Morphology, with a strong theoretical approach. We had long sessions for this course. Even though it is only 5 sessions long, it is a heavy course. There is no programming in this course\n",
    "\n",
    "\n",
    "**Topics**\n",
    "- Basic definitions: \"Words\"\n",
    "- Patterns and rules\n",
    "- Morphological derivation and inflection\n",
    "- Word schemas\n",
    "- Word formation \n",
    "- Valence\n",
    "\n",
    "**Comment**\n",
    "\n",
    "Getting to *Campus Lettres* just after lunch for this course made us all really sleepy. The best practice is to do the exercises given as homework by the teacher at the end of the lecture, because they have the same format as those in the exam. \n",
    "I really liked this course, the professor was very knowledgeable and got directly to the point."
   ]
  },
  {
   "cell_type": "markdown",
   "metadata": {},
   "source": [
    "## Methods for NLP\n",
    "\n",
    "**Where?**\n",
    "- IDMC\n",
    "\n",
    "**Grading**\n",
    "- 1 Exam | 100%\n",
    "\n",
    "**Description**\n",
    "\n",
    "Introduction to the main approaches to Natural Language Processing. It starts with a theoretical overview and then goes on to explaining the implementations of various methods. There is some programming in this course, but most of the exercised are to be done **manually**. \n",
    "\n",
    "This course has Tutorials with weakly exercises.\n",
    "\n",
    "\n",
    "\n",
    "**Topics**\n",
    "- What is Language and What is NLP?\n",
    "- Computational modelling of Language\n",
    "- Ethics of NLP\n",
    "- NLP Applications\n",
    "- Regex\n",
    "- Finite State Automata\n",
    "- Regular Grammars\n",
    "- Language Models (naive-Bayes, Laplace Smoothing,...) \n",
    "- Text Classification (accuracy, precission, recall, F1-score)\n",
    "- Context Free Grammars\n",
    "- Parsing (CYK algorithm)\n",
    "\n",
    "**Comment**\n",
    "\n",
    "> **Very important course**: You will learn the basic concepts for working with NLP\n",
    "\n",
    "The difficulty of this course oscilates between being really chill and being theoretically heavy. Don't be fooled by the intuitive lectures in the first week, after that the course becomes difficult!"
   ]
  },
  {
   "cell_type": "markdown",
   "metadata": {},
   "source": [
    "## Formal Logic\n",
    "\n",
    "**Where?**\n",
    "- IDMC\n",
    "\n",
    "**Grading**\n",
    "- 1 Exam | 100%\n",
    "\n",
    "**Description**\n",
    "This is a Pure Mathematics course introducing Formal Logic. In the first weeks the course covers what most people have already seen as Logic: Truth tables. After this, the course's difficulty goes up exponentially and never comes back. \n",
    "\n",
    "The concepts from this course are helpful for those interested in rule and inference-based approaches to NLP.\n",
    "\n",
    "\n",
    "**Topics**\n",
    "- Propositional logic and truth tables\n",
    "- Axiomatic deduction: Trees\n",
    "- Deduction theorem\n",
    "- Inference rules\n",
    "- Correctness and Completeness\n",
    "- First order logic\n",
    "- First order models\n",
    "\n",
    "**Comment**\n",
    "\n",
    "> **A very difficult course**: Most of the time most of our group didn't know what was going on on the whiteboard.\n",
    "\n",
    "Don't get fooled by the truth tables during the first two weeks: If you have never studied how to do rigurous mathematical proofs, you will be in trouble for this one. Those students who had had experience with it had to coach everyone else for this course. \n",
    "\n",
    "Induction proofs are a big part of the course. Learn how they work, how to read them, and how to write them to get a sense of what's going on. (Don't confuse Induction on Logical Formulas with Induction on the Natural Numbers!)\n",
    "\n",
    "An extra problem with this course is that there are almost no resources online for these topics, like Youtube tutorials, even in English.\n",
    "\n",
    "The exam is divided into two parts: exercises that are similar to the examples seen in class, and one long exercise."
   ]
  },
  {
   "cell_type": "markdown",
   "metadata": {},
   "source": [
    "## Project Management\n",
    "\n",
    "**Where?**\n",
    "- IDMC\n",
    "\n",
    "**Grading**\n",
    "- No grading\n",
    "\n",
    "**Description**\n",
    "\n",
    "A management course, MBA style. Given by a Corporate Administrator at a really big accounting company. \n",
    "\n",
    "**Topics**\n",
    "- Projects\n",
    "- RACI and Risk matrices\n",
    "- Scrum and Agile\n",
    "- Some cases studies on Management\n",
    "\n",
    "**Comment**\n",
    "\n",
    "Sometimes the lecture felt like a Dilbert comic."
   ]
  },
  {
   "cell_type": "markdown",
   "metadata": {},
   "source": [
    "# French and English Language courses\n",
    "\n",
    "**Where?**\n",
    "- At the IDMC or online\n",
    "\n",
    "**Grading**\n",
    "- Decided by the teacher\n",
    "\n",
    "**Description**\n",
    "\n",
    "French speakers must attend an English language class, and non-French speakers must attend a French class. The French class is divided into two groups, advanced and beginners.\n",
    "\n",
    "**Topics**\n",
    "- Decided by the teacher\n",
    "\n",
    "**Comment**\n",
    "\n",
    "Here, everything is on the teacher's hands. Will lectures be online or in person? Will there be homework? Will there be presentations? It all depends on the teacher."
   ]
  },
  {
   "cell_type": "markdown",
   "metadata": {},
   "source": [
    "# Workshops\n",
    "\n",
    "There are a couple of workshops of one or two sessions along the semester. They intend to cover very specific points. All of them are at the IDMC."
   ]
  },
  {
   "cell_type": "markdown",
   "metadata": {},
   "source": [
    "## Linguistics review (*Remise à niveau Linguistique*)\n",
    "\n",
    "- How long? - 4 sessions\n",
    "\n",
    "**Description**:\n",
    "A workshop on learning to read academic publications, and in particular, linguistics and NLP papers.\n",
    "\n"
   ]
  },
  {
   "cell_type": "markdown",
   "metadata": {},
   "source": [
    "## Marketing and Communications"
   ]
  },
  {
   "cell_type": "markdown",
   "metadata": {},
   "source": [
    "- How long? - 2 sessions\n",
    "\n",
    "**Description**: A workshop for presenting academic slides in English."
   ]
  },
  {
   "cell_type": "markdown",
   "metadata": {},
   "source": [
    "## Shell\n",
    "\n",
    "- How long? - 2 sessions\n",
    "\n",
    "**Description**: Learning to use the command line. At the beginning the command line is scary, but you *will* have to get used to it."
   ]
  },
  {
   "cell_type": "markdown",
   "metadata": {},
   "source": [
    "## Git"
   ]
  },
  {
   "cell_type": "markdown",
   "metadata": {},
   "source": [
    "- How long? - 3 sessions\n",
    "\n",
    "**Description**: Learning to use Git from the command line.\n",
    "\n",
    "Explained [here](https://luisavasquez.github.io/quiescens-lct/lct%20year%201/2022/07/02/first_semester.html#Some-practical-advice)."
   ]
  },
  {
   "cell_type": "markdown",
   "metadata": {},
   "source": [
    "## LaTeX"
   ]
  },
  {
   "cell_type": "markdown",
   "metadata": {},
   "source": [
    "- How long? - 2 sessions\n",
    "\n",
    "**Description**: Using LaTex on Overleaf.com, managing bibliograpy. At the beginning $\\LaTeX$ will see like a big hussle. You will see it is well suited for writing academic papers and software documentation. \n",
    "\n",
    "Explained [here](https://luisavasquez.github.io/quiescens-lct/lct%20year%201/2022/07/02/first_semester.html#Some-practical-advice)."
   ]
  },
  {
   "cell_type": "markdown",
   "metadata": {},
   "source": [
    "# Projects\n",
    "\n",
    "There are two projects going in parallel to the courses."
   ]
  },
  {
   "cell_type": "markdown",
   "metadata": {},
   "source": [
    "## Semester Project"
   ]
  },
  {
   "cell_type": "markdown",
   "metadata": {},
   "source": [
    "For the first semester you have to make a group, come up together with an idea, and implement it.\n",
    "\n",
    "**Evaluation**\n",
    "- 4 Reports | 50%\n",
    "- 1 Defense | 50%\n",
    "\n",
    "This project has four reports, one every 1 month.\n",
    "\n",
    "- Report 1: Description of the group's idea and objectives. No page limit\n",
    "- Report 2: Description of the project. 3 pages.\n",
    "- Report 3: Progress report. 5 pages\n",
    "- Report 4: Final report. 8 Pages.\n",
    "\n",
    "You must also submit a poster.\n",
    "\n",
    "At the beginning it is really easy to underestimate this project, however, the monthly reports quickly catch up with you. \n",
    "\n",
    "On one hand, it is really cool to have a new idea and go for it. On the other hand, when you start doing the project you realise that, as first semester students, no one knows NLP or ML, so no one has any idea where to start.\n",
    "\n",
    "This is one of the instances where Linguistics-background students struggle with programming, and where CS-background students struggle with linguistic notions, so it is important to have a balanced group.\n",
    "\n",
    "Finally, part of this project also counts for the Written Corpora course: since you're doing NLP, you will almost surely have to use or create some kind of dataset. This experience will be evaluated for the Written Corpora course and will count for 30% of that course.\n"
   ]
  },
  {
   "cell_type": "markdown",
   "metadata": {},
   "source": [
    "## Supervised Project"
   ]
  },
  {
   "cell_type": "markdown",
   "metadata": {},
   "source": [
    "The supervised project is a **research project** which lasts for the first **year**. Several teachers propose research ideas to the whole class, and you have to form a group of three or four people and pick one project.\n",
    "\n",
    "During the first semester you are supposed to do the litterature and state-of-the-art review and write a report about it. This report must include your ideas for using the tools in the litterature to address the projects research objective.\n",
    "\n",
    "You should be having meetings with your supervisor every one or two weeks to report on your progress and ideas for the project.\n",
    "\n",
    "The workload of this project will depend a lot on your group dynamic and your supervisor. Some supervisors were very hands-off while others had a very specific roadmap. Some groups had everyone collaborate while some others had a single student doing all of the work. "
   ]
  },
  {
   "cell_type": "markdown",
   "metadata": {},
   "source": [
    "# Advise\n",
    "\n",
    "As you can see, the first semester is very busy. The schedule runs from 8AM to 6PM if you are having *Alternance*. This is tremendously exhausting.\n",
    "\n",
    "> Eventually, one has to balance whether all the courses are worth it.\n",
    "\n",
    "\n",
    "Additionally, there is very little feedback from the professors about your performance (for example, we never got grades for our tutorial assignments), so you only know how well you've been doing when you get the final grade.\n"
   ]
  }
 ],
 "metadata": {
  "interpreter": {
   "hash": "916dbcbb3f70747c44a77c7bcd40155683ae19c65e1c03b4aa3499c5328201f1"
  },
  "kernelspec": {
   "display_name": "visualization-curriculum-gF8wUgMm",
   "language": "python",
   "name": "python3"
  },
  "language_info": {
   "codemirror_mode": {
    "name": "ipython",
    "version": 3
   },
   "file_extension": ".py",
   "mimetype": "text/x-python",
   "name": "python",
   "nbconvert_exporter": "python",
   "pygments_lexer": "ipython3",
   "version": "3.9.2"
  },
  "varInspector": {
   "cols": {
    "lenName": 16,
    "lenType": 16,
    "lenVar": 40
   },
   "kernels_config": {
    "python": {
     "delete_cmd_postfix": "",
     "delete_cmd_prefix": "del ",
     "library": "var_list.py",
     "varRefreshCmd": "print(var_dic_list())"
    },
    "r": {
     "delete_cmd_postfix": ") ",
     "delete_cmd_prefix": "rm(",
     "library": "var_list.r",
     "varRefreshCmd": "cat(var_dic_list()) "
    }
   },
   "types_to_exclude": [
    "module",
    "function",
    "builtin_function_or_method",
    "instance",
    "_Feature"
   ],
   "window_display": false
  }
 },
 "nbformat": 4,
 "nbformat_minor": 4
}
