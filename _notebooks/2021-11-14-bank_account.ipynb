{
 "cells": [
  {
   "cell_type": "markdown",
   "metadata": {},
   "source": [
    "# \"Settling in France: Creating a bank account\"\n",
    "> For Non-europeans\n",
    "\n",
    "- toc: true \n",
    "- badges: true\n",
    "- comments: true\n",
    "- categories:[\"french bureaucracy\", Nancy, going to France]\n",
    "- image: images/chart-preview.png"
   ]
  },
  {
   "cell_type": "markdown",
   "metadata": {},
   "source": [
    "Creating a bank account is one of the first things you should do after arriving to France. An European [IBAN](https://en.wikipedia.org/wiki/International_Bank_Account_Number) account number will be requested for bureaucracy like student accomodation subsidies, and applying to the public health system.\n",
    "\n",
    "\n",
    "Note: Citizens of the USA have to go through some extra steps for creating bank accounts abroad, due to tax legislation in their country."
   ]
  },
  {
   "cell_type": "markdown",
   "metadata": {},
   "source": [
    "# Traditional Banks"
   ]
  },
  {
   "cell_type": "markdown",
   "metadata": {},
   "source": [
    "My first idea was to simply use a traditional bank. Asking around in student circles, I was recommended BNP Paribas. As I then discovered, this was not the best option. It wasn't a bad option either."
   ]
  },
  {
   "cell_type": "markdown",
   "metadata": {},
   "source": [
    "## BNP Paribas"
   ]
  },
  {
   "cell_type": "markdown",
   "metadata": {},
   "source": [
    "BNP Paribas is one of the biggest banks in France. It has one agency close to my University Residence, Batelière:"
   ]
  },
  {
   "cell_type": "markdown",
   "metadata": {},
   "source": [
    "<iframe src=\"https://www.google.com/maps/embed?pb=!1m28!1m12!1m3!1d2633.1085093941324!2d6.170761766008203!3d48.703406929272646!2m3!1f0!2f0!3f0!3m2!1i1024!2i768!4f13.1!4m13!3e3!4m5!1s0x4794a2ab6afd9383%3A0xa937b6e5e4c671a8!2sResidence%20Bateliere%2C%20Rue%20de%20Metz%2C%20Max%C3%A9ville!3m2!1d48.7061388!2d6.1677124!4m5!1s0x4794980eeb19d205%3A0x219d1f6e4cec59ef!2sBNP%20Paribas%20-%20Nancy%20Trois%20Maisons%2C%204%20bis%20Rue%20de%20la%20Citadelle%2C%2054000%20Nancy!3m2!1d48.700682699999994!2d6.178113499999999!5e0!3m2!1sen!2sfr!4v1646404322654!5m2!1sen!2sfr\" width=\"600\" height=\"450\" style=\"border:0;\" allowfullscreen=\"\" loading=\"lazy\"></iframe>"
   ]
  },
  {
   "cell_type": "markdown",
   "metadata": {},
   "source": [
    "In this agency there were people who spoke English and helped me setup my account.\n",
    "\n",
    "I needed the following documents:\n",
    "\n",
    "- Passport\n",
    "- *Attestation de résidence* (Certificate of residence), received when picking up keys\n",
    "- *Préalable d'inscription* (Campus France certificate)\n",
    "\n",
    "\n",
    "They also asked me for a French phone number, but I don't know if this is mandatory.\n",
    "\n",
    "I had to ask for the student account, which is free for one year.\n",
    "\n",
    "Creating the account took 20 minutes, but all other processes with BNP take ages!"
   ]
  },
  {
   "cell_type": "markdown",
   "metadata": {},
   "source": [
    "- A couple of days after creating the account, I received a letter with my IBAN number\n",
    "- Some days later I received a letter with my user code for their online platform\n",
    "- In their platform I could request a debit card, which took almost a month to arrive\n",
    "- Even with the card already in my hands, I had to wait some more weeks for a letter with my PIN number.\n",
    "- No instant transfers: To make transfers to other bank accounts, BNP has to validate them, and it takes 2 or 3 days. \n",
    "\n",
    "As you can see, it is a very traditional and very slow bank."
   ]
  },
  {
   "cell_type": "markdown",
   "metadata": {},
   "source": [
    "---\n",
    "\n",
    "Note, after registering at the University of Lorraine, I had to take my **proof of enrollment** to the BNP agency to confirm I was a student.\n",
    "\n",
    "---"
   ]
  },
  {
   "cell_type": "markdown",
   "metadata": {},
   "source": [
    "---\n",
    "\n",
    "Note, for other students, BNP Paribas took way longer (more than 2 or 3 months) in creating their accounts.\n",
    "\n",
    "---"
   ]
  },
  {
   "cell_type": "markdown",
   "metadata": {},
   "source": [
    "---\n",
    "\n",
    "Note, all the operations that cannot be made online, like closing your account, have to be done in the same agency where you created it.\n",
    "\n",
    "---"
   ]
  },
  {
   "cell_type": "markdown",
   "metadata": {},
   "source": [
    "## Others\n",
    "\n",
    "Some students have used other banks:\n",
    "- Crédit Agricole\n",
    "- Caisse d'Epargne\n",
    "\n"
   ]
  },
  {
   "cell_type": "markdown",
   "metadata": {},
   "source": [
    "# Digital Banks\n",
    "\n",
    "After using digital banks here, I am sure they are the future of banking. \n",
    "\n",
    "- General advantages: They can be used from your phone, they can be set up in one or two days, and they provide you an IBAN and physical cards. All of them operate at least in English.\n",
    "\n",
    "- General disadvantages: The only way to increase your balance is with transfers from other banks, there is no way of making cash deposits. If you loose access to your phone, it maybe troublesome to recover control of your accounts.\n",
    "\n",
    "\n",
    "---\n",
    "\n",
    "They all have to verify your identity via a video call where you show them your passport.\n",
    "\n",
    "---"
   ]
  },
  {
   "cell_type": "markdown",
   "metadata": {},
   "source": [
    "## Bunq"
   ]
  },
  {
   "cell_type": "markdown",
   "metadata": {},
   "source": [
    "Bunq is a Dutch digital bank. It only works with Euros and for transfers in the Eurozone. They can provide you with an IBAN for France (i.e. one starting with \"FR\"). \n",
    "\n",
    "- Advantages: It is really user friendly, transfers are authomatic, and you can use almost any ATM without any fees at least once a month.\n",
    "\n",
    "- Disadvantages: It is subscription based, so it charges 2€/month for the account.\n"
   ]
  },
  {
   "cell_type": "markdown",
   "metadata": {},
   "source": [
    "## Revolut"
   ]
  },
  {
   "cell_type": "markdown",
   "metadata": {},
   "source": [
    "Revolut is not really a bank, it is focused on sending and receiving money. \n",
    "\n",
    "\n",
    "- Advantages: it allows you to have balance in different currencies has really good exchange rates! It can make transfers to european bank accounts.\n",
    "- Disadvantages: it is very fast for sending money to other Revolut users, not that much for sending to normal banks.\n"
   ]
  },
  {
   "cell_type": "markdown",
   "metadata": {},
   "source": [
    "## (Transfer)Wise\n",
    "\n",
    "I personally don't use this one, but I have been told it is really useful for citizens of the USA and Canada, as it works well for sending and receiving USD.\n",
    "\n",
    "People have told me that they were able to set up and use their (Transfer)Wise accounts way before setting foot in Europe."
   ]
  },
  {
   "cell_type": "markdown",
   "metadata": {},
   "source": [
    "## N 26\n",
    "\n",
    "Very similar to (Transfer)Wise.\n",
    "\n",
    "I personally don't use this one, but I have been told by other Latinamericans that it works well for buying euros before coming to France.\n",
    "\n",
    "People have told me that they were able to set up and use their N 26 accounts way before setting foot in Europe."
   ]
  },
  {
   "cell_type": "markdown",
   "metadata": {},
   "source": [
    "# After creating a bank account\n",
    "\n",
    "Once you have a bank account you will be able to download a RIB *Relève d'identité bancaire* (Certificate of Banking Identity), which is just a document from the bank stating your IBAN and your bank's [SWIFT code](https://en.wikipedia.org/wiki/ISO_9362).\n",
    "\n",
    "Some things to do after creating a bank account:\n",
    "\n",
    "- If you have a LCT scholarship, you must tell you IBAN to the LCT authorities.\n",
    "- You must tell your IBAN to the CROUS residence (so that they know where to give you back your deposit. They will not make any charges.)\n",
    "\n",
    "- Some banks may ask your for a proof of enrollment in the University of Lorraine\n",
    "\n"
   ]
  },
  {
   "cell_type": "markdown",
   "metadata": {},
   "source": [
    "> youtube: https://youtu.be/ETxmCCsMoD0"
   ]
  }
 ],
 "metadata": {
  "interpreter": {
   "hash": "916dbcbb3f70747c44a77c7bcd40155683ae19c65e1c03b4aa3499c5328201f1"
  },
  "kernelspec": {
   "display_name": "visualization-curriculum-gF8wUgMm",
   "language": "python",
   "name": "python3"
  },
  "language_info": {
   "codemirror_mode": {
    "name": "ipython",
    "version": 3
   },
   "file_extension": ".py",
   "mimetype": "text/x-python",
   "name": "python",
   "nbconvert_exporter": "python",
   "pygments_lexer": "ipython3",
   "version": "3.8.10"
  },
  "varInspector": {
   "cols": {
    "lenName": 16,
    "lenType": 16,
    "lenVar": 40
   },
   "kernels_config": {
    "python": {
     "delete_cmd_postfix": "",
     "delete_cmd_prefix": "del ",
     "library": "var_list.py",
     "varRefreshCmd": "print(var_dic_list())"
    },
    "r": {
     "delete_cmd_postfix": ") ",
     "delete_cmd_prefix": "rm(",
     "library": "var_list.r",
     "varRefreshCmd": "cat(var_dic_list()) "
    }
   },
   "types_to_exclude": [
    "module",
    "function",
    "builtin_function_or_method",
    "instance",
    "_Feature"
   ],
   "window_display": false
  }
 },
 "nbformat": 4,
 "nbformat_minor": 4
}
