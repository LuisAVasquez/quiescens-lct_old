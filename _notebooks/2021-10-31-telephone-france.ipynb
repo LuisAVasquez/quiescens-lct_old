{
 "cells": [
  {
   "cell_type": "markdown",
   "metadata": {},
   "source": [
    "# \"Settling in France: Phone number and mobile data\"\n",
    "> How to get a phone number\n",
    "\n",
    "- toc: true \n",
    "- badges: true\n",
    "- comments: true\n",
    "- categories: [french bureaucracy, Nancy, going to France]\n",
    "- image: images/chart-preview.png"
   ]
  },
  {
   "cell_type": "markdown",
   "metadata": {},
   "source": [
    "Having mobile data in a new city is really helpful, specially during the first weeks while settling in. Some bureaucratic processes ask optionally for a phone number."
   ]
  },
  {
   "cell_type": "markdown",
   "metadata": {},
   "source": [
    "---\n",
    "\n",
    "Note: In French, \"Gigabytes (GB)\" are called \"**Gigaoctets (Go)**\"\n",
    "\n",
    "---"
   ]
  },
  {
   "cell_type": "markdown",
   "metadata": {},
   "source": [
    "# Type of contract\n",
    "\n",
    "Given that I was only going to be in France for a year, I did not intend to get a subscription (*engagement*) for a mobile phone plan. Instead, I went for the *forfait sans engagement* option, which is easy to cancell and relatively cheap."
   ]
  },
  {
   "cell_type": "markdown",
   "metadata": {},
   "source": [
    "# Mobile Carriers\n",
    "\n",
    "In France, I have heard about the following mobile carriers:\n",
    "- Bouygues\n",
    "- FREE Mobile\n",
    "- Lebara\n",
    "- Orange\n",
    "\n"
   ]
  },
  {
   "cell_type": "markdown",
   "metadata": {},
   "source": [
    "# My case"
   ]
  },
  {
   "cell_type": "markdown",
   "metadata": {},
   "source": [
    "As I have told in a [previous post](https://luisavasquez.github.io/quiescens-lct/going%20to%20france/living%20in%20nancy/2021/10/04/trip-to-france.html), I bought a SIM card at Charles de Gaulle Airport just after landing in France.\n",
    "\n",
    "Even though the price was a rip-off, it really helped me during the first weeks as I was figuring out how to live in France. That SIM card was \"plug and play\": just after inserting it in my phone I had access to data for a month. It was operated by Bouygues.\n",
    "\n",
    "As the end of the month was approaching, and Bouygues prices were too high for me (and their customer service only worked in French), I started looking into other mobile providers.\n",
    "\n",
    "My main problem was that **some providers only accepted payments with an European Card**, and I still was in the process of creating one."
   ]
  },
  {
   "cell_type": "markdown",
   "metadata": {},
   "source": [
    "After looking around possible offers in the carriers mentioned above, I settled for [Lebara](https://mobile.lebara.com/fr/en/) (available in English), considering the following reasons:\n",
    "\n",
    "- They website worked really well in English\n",
    "- They accepted Paypal, which I already had\n",
    "- Their prices were slightly above average\n",
    "\n",
    "I went for a plan of **20 Go** at **10€/month**."
   ]
  },
  {
   "cell_type": "markdown",
   "metadata": {},
   "source": [
    "## Getting a SIM\n",
    "\n",
    "After creating an account, there was an option to request a new SIM card. It took around 10 days to arrive to my residence in physical mail."
   ]
  },
  {
   "cell_type": "markdown",
   "metadata": {},
   "source": [
    "## Changing mobile phone providers"
   ]
  },
  {
   "cell_type": "markdown",
   "metadata": {},
   "source": [
    "I wanted to keep the phone number from my first SIM card, and I found out that changing mobile phone providers is pretty easy in France! \n",
    "\n",
    "### RIO number\n",
    "\n",
    "The **RIO number** is a code that identifies your phone number. To get it, call for free the number **3179**, and a bot will answer. Though it is available in French, it will give you the option of getting your RIO number via SMS.\n",
    "\n",
    "### Requesting a change\n",
    "\n",
    "In the website of the *new* provider (Lebara in my case), there should be an option for changing phone numbers. There, fill in the request with your RIO code and go through the steps.\n",
    "\n",
    "After a day or two I got a SMS saying my request was being processed. Also two or three days later, I got another SMS saying the request was approved, and they notified me of the exact date when the change was going to be effective.\n",
    "\n",
    "\n",
    "#### Activating the data\n",
    "\n",
    "This is only particular to Lebara: it is necessary to set up an *Access Point Name (AN)* in order to use the Lebara network. To the best of my knowledge, other carriers do this automatically. However, the process takes around five minutes in your phone settings.\n",
    "\n",
    "Here are the instructions, from [thei own website](https://mobile.lebara.com/fr/en/question/faq-installer-internet):"
   ]
  },
  {
   "cell_type": "code",
   "execution_count": null,
   "metadata": {},
   "outputs": [],
   "source": [
    "#collapse-hide\n",
    "\n",
    "##On AndroidTM\n",
    "\"\"\"\n",
    "1. Menu/Parameters\n",
    "2. More...\n",
    "3. Mobile networks\n",
    "4. Name of access points\n",
    "5. Create a new APN\n",
    "6. Enter the following information:\n",
    "           Name: lebara\n",
    "           APN: fr.lebara.mobi\n",
    "           Username: WAP\n",
    "           Password: WAP\n",
    "           APN Protocol: IPv4 \n",
    "           APN roaming protocol: IPv4\n",
    "\n",
    "7. Authentication type: PAP\n",
    "8. Save \n",
    "9. Press lebara.mobi to get it into active mode  \n",
    "10.Internet connection is set up in a matter of moments\n",
    "\"\"\";\n",
    "\n",
    "## On Apple iOS\n",
    "\n",
    "\"\"\"\n",
    "1. Settings\n",
    "2. Cellular data\n",
    "3. Cellular data network\n",
    "4. Enter the following information: Location of access point: fr.lebara.mobi\n",
    "\n",
    "\"\"\";"
   ]
  }
 ],
 "metadata": {
  "interpreter": {
   "hash": "916dbcbb3f70747c44a77c7bcd40155683ae19c65e1c03b4aa3499c5328201f1"
  },
  "kernelspec": {
   "display_name": "visualization-curriculum-gF8wUgMm",
   "language": "python",
   "name": "python3"
  },
  "language_info": {
   "codemirror_mode": {
    "name": "ipython",
    "version": 3
   },
   "file_extension": ".py",
   "mimetype": "text/x-python",
   "name": "python",
   "nbconvert_exporter": "python",
   "pygments_lexer": "ipython3",
   "version": "3.8.10"
  },
  "varInspector": {
   "cols": {
    "lenName": 16,
    "lenType": 16,
    "lenVar": 40
   },
   "kernels_config": {
    "python": {
     "delete_cmd_postfix": "",
     "delete_cmd_prefix": "del ",
     "library": "var_list.py",
     "varRefreshCmd": "print(var_dic_list())"
    },
    "r": {
     "delete_cmd_postfix": ") ",
     "delete_cmd_prefix": "rm(",
     "library": "var_list.r",
     "varRefreshCmd": "cat(var_dic_list()) "
    }
   },
   "types_to_exclude": [
    "module",
    "function",
    "builtin_function_or_method",
    "instance",
    "_Feature"
   ],
   "window_display": false
  }
 },
 "nbformat": 4,
 "nbformat_minor": 4
}
